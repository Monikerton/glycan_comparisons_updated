{
 "cells": [
  {
   "cell_type": "code",
   "execution_count": 9,
   "id": "ee019460",
   "metadata": {},
   "outputs": [],
   "source": [
    "import glycosylator as gl\n",
    "from pathlib import Path\n",
    "\n",
    "def get_components(file_path: Path) -> dict:\n",
    "    \"\"\"\n",
    "    Parse a GlycoShape structure file and return a dict of component counts.\n",
    "    \"\"\"\n",
    "    path_str = str(file_path)\n",
    "    if path_str.endswith(\".cif\"):\n",
    "        g = gl.Glycan.from_cif(path_str)\n",
    "    elif path_str.endswith(\".pdb\"):\n",
    "        g = gl.Glycan.from_pdb(path_str)\n",
    "    else:\n",
    "        raise AssertionError(f\"Uncertain which filetype this is: {path_str}\")\n",
    "\n",
    "    g.infer_bonds(max_bond_length=1.622, restrict_residues=True)\n",
    "    g.infer_residue_connections(bond_length=1.62)\n",
    "    g.infer_glycan_tree()\n",
    "\n",
    "    hist = g.hist().set_index(\"residue\").to_dict()[\"count\"]\n",
    "    components = {}\n",
    "    for k, v in hist.items():\n",
    "        key = k.split(\"-\")[-1]\n",
    "        components[key] = components.get(key, 0) + v\n",
    "\n",
    "    return components\n"
   ]
  },
  {
   "cell_type": "code",
   "execution_count": 10,
   "id": "4132ce4b",
   "metadata": {},
   "outputs": [],
   "source": [
    "a = Path(\"/data/rbg/users/dkwabiad/temp_while_cp_rsg/glycan_comp_restructure/output/ingest/glycoshape/glycoshape_pdbs/GS00276/cluster0_alpha.pdb\")\n",
    "b = Path(\"/data/rbg/users/dkwabiad/temp_while_cp_rsg/glycan_comp_restructure/output/ingest/glycoshape/glycoshape_pdbs/GS00276/cluster2_alpha.pdb\")"
   ]
  },
  {
   "cell_type": "code",
   "execution_count": 11,
   "id": "049c3fad",
   "metadata": {},
   "outputs": [
    {
     "data": {
      "text/plain": [
       "{'Glc': 1, 'Gal': 2, 'GlcNAc': 2, 'Fuc': 1}"
      ]
     },
     "execution_count": 11,
     "metadata": {},
     "output_type": "execute_result"
    }
   ],
   "source": [
    "get_components(a)"
   ]
  },
  {
   "cell_type": "code",
   "execution_count": 6,
   "id": "e42f7732",
   "metadata": {},
   "outputs": [
    {
     "data": {
      "text/plain": [
       "{'Glc': 1, 'Gal': 2, 'GlcNAc': 2, 'Fuc': 1}"
      ]
     },
     "execution_count": 6,
     "metadata": {},
     "output_type": "execute_result"
    }
   ],
   "source": [
    "get_components(b)"
   ]
  }
 ],
 "metadata": {
  "kernelspec": {
   "display_name": "glycam_conv",
   "language": "python",
   "name": "python3"
  },
  "language_info": {
   "codemirror_mode": {
    "name": "ipython",
    "version": 3
   },
   "file_extension": ".py",
   "mimetype": "text/x-python",
   "name": "python",
   "nbconvert_exporter": "python",
   "pygments_lexer": "ipython3",
   "version": "3.12.4"
  }
 },
 "nbformat": 4,
 "nbformat_minor": 5
}
