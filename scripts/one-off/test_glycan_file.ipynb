{
 "cells": [
  {
   "cell_type": "code",
   "execution_count": 2,
   "metadata": {},
   "outputs": [],
   "source": [
    "import glycosylator as gl\n",
    "import string\n",
    "import itertools\n",
    "\n",
    "glycan_file = \"/data/rbg/users/dkwabiad/temp_while_cp_rsg/glycan_comp_restructure/raw_data/filtered_glycoshape_pdbs/GS00002_alpha.pdb\"\n",
    "\n",
    "glycan = gl.Glycan.from_pdb(glycan_file)"
   ]
  },
  {
   "cell_type": "code",
   "execution_count": 3,
   "id": "19ce9772",
   "metadata": {},
   "outputs": [],
   "source": [
    "def next_missing_letter(letters_set):\n",
    "    alphabet = string.ascii_uppercase\n",
    "    for length in range(1, len(letters_set) + 3):\n",
    "        for letter_tuple in itertools.product(alphabet, repeat=length):\n",
    "            letter = ''.join(letter_tuple)\n",
    "            if letter not in letters_set:\n",
    "                return letter"
   ]
  },
  {
   "cell_type": "code",
   "execution_count": 8,
   "id": "53cf3712",
   "metadata": {},
   "outputs": [
    {
     "name": "stdout",
     "output_type": "stream",
     "text": [
      "<class 'tuple'>\n",
      "(Atom(O3, 29), Atom(C1, 30))\n",
      "<class 'tuple'>\n",
      "(Atom(O3, 50), Atom(C1, 51))\n",
      "<class 'tuple'>\n",
      "(Atom(O2, 71), Atom(C1, 72))\n",
      "<class 'tuple'>\n",
      "(Atom(C3, 15), Atom(O3, 29))\n",
      "<class 'tuple'>\n",
      "(Atom(C3, 44), Atom(O3, 50))\n",
      "<class 'tuple'>\n",
      "(Atom(C2, 53), Atom(O2, 71))\n"
     ]
    }
   ],
   "source": [
    "json_data = {\n",
    "        \"sequence_list\": [],\n",
    "        \"bonded_atom_pairs\": [],\n",
    "        \"passes_filters\": False,\n",
    "        \"filter_reasons\": []\n",
    "    }\n",
    "\n",
    "sequence_list = []\n",
    "bonded_atom_pairs_list = []\n",
    "ids_set = set()\n",
    "\n",
    "glycan_id = next_missing_letter(ids_set)\n",
    "ids_set.add(glycan_id)\n",
    "\n",
    "glycan_codes = sorted(list(res.resname for res in glycan.get_residues()))\n",
    "ligand_obj = {\n",
    "    \"ligand\": {\n",
    "        \"id\": glycan_id,\n",
    "        \"ccdCodes\": glycan_codes\n",
    "    }\n",
    "}\n",
    "sequence_list.append(ligand_obj)\n",
    "\n",
    "for bond in glycan.infer_residue_connections():\n",
    "    print(type(bond))\n",
    "    print(bond)\n",
    "    # a1 = bond.atom1\n",
    "    # res1_id = a1.get_parent().serial_number\n",
    "    # a2 = bond.atom2\n",
    "    # res2_id = a2.get_parent().serial_number\n",
    "    # bonded_atom_pair = [[glycan_id, res1_id, a1.id],\n",
    "    #                     [glycan_id, res2_id, a2.id]]\n",
    "    # bonded_atom_pairs_list.append(bonded_atom_pair)\n",
    "\n",
    "json_data[\"sequence_list\"] = sequence_list\n",
    "json_data[\"bonded_atom_pairs\"] = bonded_atom_pairs_list"
   ]
  },
  {
   "cell_type": "code",
   "execution_count": 15,
   "id": "c4d86a81",
   "metadata": {},
   "outputs": [
    {
     "data": {
      "text/plain": [
       "[Bond(Atom(O3, 50), Atom(C1, 51)),\n",
       " Bond(Atom(O3, 29), Atom(C1, 30)),\n",
       " (Atom(O2, 71), Atom(C2, 53)),\n",
       " (Atom(O3, 29), Atom(C3, 15)),\n",
       " Bond(Atom(O2, 71), Atom(C1, 72)),\n",
       " (Atom(O3, 50), Atom(C3, 44))]"
      ]
     },
     "execution_count": 15,
     "metadata": {},
     "output_type": "execute_result"
    }
   ],
   "source": [
    "glycan.get_residue_connections()\n",
    "\n",
    "\n"
   ]
  },
  {
   "cell_type": "code",
   "execution_count": null,
   "id": "dafaa678",
   "metadata": {},
   "outputs": [
    {
     "name": "stdout",
     "output_type": "stream",
     "text": [
      "[Bond(Atom(O3, 50), Atom(C1, 51)), Bond(Atom(O3, 29), Atom(C1, 30)), (Atom(O2, 71), Atom(C2, 53)), (Atom(O3, 29), Atom(C3, 15)), Bond(Atom(O2, 71), Atom(C1, 72)), (Atom(O3, 50), Atom(C3, 44))]\n"
     ]
    }
   ],
   "source": [
    "l1 = list(glycan.get_residue_connections())\n",
    "l2 = list(glycan.infer_residue_connections())\n",
    "\n"
   ]
  },
  {
   "cell_type": "code",
   "execution_count": 13,
   "id": "b3d63dd4",
   "metadata": {},
   "outputs": [
    {
     "name": "stdout",
     "output_type": "stream",
     "text": [
      "L1: [Bond(Atom(O3, 50), Atom(C1, 51)), Bond(Atom(O3, 29), Atom(C1, 30)), (Atom(O2, 71), Atom(C2, 53)), (Atom(O3, 29), Atom(C3, 15)), Bond(Atom(O2, 71), Atom(C1, 72)), (Atom(O3, 50), Atom(C3, 44))]\n",
      "L2: [(Atom(O3, 29), Atom(C1, 30)), (Atom(O3, 50), Atom(C1, 51)), (Atom(O2, 71), Atom(C1, 72)), (Atom(C3, 15), Atom(O3, 29)), (Atom(C3, 44), Atom(O3, 50)), (Atom(C2, 53), Atom(O2, 71))]\n"
     ]
    }
   ],
   "source": [
    "print(\"L1:\", l1)\n",
    "print(\"L2:\", l2)"
   ]
  }
 ],
 "metadata": {
  "kernelspec": {
   "display_name": "glycam_conv",
   "language": "python",
   "name": "python3"
  },
  "language_info": {
   "codemirror_mode": {
    "name": "ipython",
    "version": 3
   },
   "file_extension": ".py",
   "mimetype": "text/x-python",
   "name": "python",
   "nbconvert_exporter": "python",
   "pygments_lexer": "ipython3",
   "version": "3.12.4"
  }
 },
 "nbformat": 4,
 "nbformat_minor": 5
}
